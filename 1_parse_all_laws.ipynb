{
 "cells": [
  {
   "cell_type": "markdown",
   "metadata": {},
   "source": [
    "# 1. Парсинг всех пленарних засідань ВР"
   ]
  },
  {
   "cell_type": "markdown",
   "metadata": {},
   "source": [
    "Установка необходимых пакетов"
   ]
  },
  {
   "cell_type": "code",
   "execution_count": 15,
   "metadata": {
    "collapsed": true
   },
   "outputs": [
    {
     "name": "stdout",
     "output_type": "stream",
     "text": [
      "Requirement already satisfied: Scrapy==1.6.0 in ./venv/lib/python3.8/site-packages (1.6.0)\n",
      "Requirement already satisfied: pyOpenSSL in ./venv/lib/python3.8/site-packages (from Scrapy==1.6.0) (20.0.1)\n",
      "Requirement already satisfied: PyDispatcher>=2.0.5 in ./venv/lib/python3.8/site-packages (from Scrapy==1.6.0) (2.0.5)\n",
      "Requirement already satisfied: service-identity in ./venv/lib/python3.8/site-packages (from Scrapy==1.6.0) (18.1.0)\n",
      "Requirement already satisfied: queuelib in ./venv/lib/python3.8/site-packages (from Scrapy==1.6.0) (1.5.0)\n",
      "Requirement already satisfied: Twisted>=13.1.0 in ./venv/lib/python3.8/site-packages (from Scrapy==1.6.0) (20.3.0)\n",
      "Requirement already satisfied: six>=1.5.2 in ./venv/lib/python3.8/site-packages (from Scrapy==1.6.0) (1.15.0)\n",
      "Requirement already satisfied: cssselect>=0.9 in ./venv/lib/python3.8/site-packages (from Scrapy==1.6.0) (1.1.0)\n",
      "Requirement already satisfied: w3lib>=1.17.0 in ./venv/lib/python3.8/site-packages (from Scrapy==1.6.0) (1.22.0)\n",
      "Requirement already satisfied: parsel>=1.5 in ./venv/lib/python3.8/site-packages (from Scrapy==1.6.0) (1.6.0)\n",
      "Requirement already satisfied: lxml in ./venv/lib/python3.8/site-packages (from Scrapy==1.6.0) (4.6.2)\n",
      "Requirement already satisfied: cryptography>=3.2 in ./venv/lib/python3.8/site-packages (from pyOpenSSL->Scrapy==1.6.0) (3.3.1)\n",
      "Requirement already satisfied: pyasn1-modules in ./venv/lib/python3.8/site-packages (from service-identity->Scrapy==1.6.0) (0.2.8)\n",
      "Requirement already satisfied: attrs>=16.0.0 in ./venv/lib/python3.8/site-packages (from service-identity->Scrapy==1.6.0) (20.3.0)\n",
      "Requirement already satisfied: pyasn1 in ./venv/lib/python3.8/site-packages (from service-identity->Scrapy==1.6.0) (0.4.8)\n",
      "Requirement already satisfied: Automat>=0.3.0 in ./venv/lib/python3.8/site-packages (from Twisted>=13.1.0->Scrapy==1.6.0) (20.2.0)\n",
      "Requirement already satisfied: PyHamcrest!=1.10.0,>=1.9.0 in ./venv/lib/python3.8/site-packages (from Twisted>=13.1.0->Scrapy==1.6.0) (2.0.2)\n",
      "Requirement already satisfied: constantly>=15.1 in ./venv/lib/python3.8/site-packages (from Twisted>=13.1.0->Scrapy==1.6.0) (15.1.0)\n",
      "Requirement already satisfied: hyperlink>=17.1.1 in ./venv/lib/python3.8/site-packages (from Twisted>=13.1.0->Scrapy==1.6.0) (20.0.1)\n",
      "Requirement already satisfied: incremental>=16.10.1 in ./venv/lib/python3.8/site-packages (from Twisted>=13.1.0->Scrapy==1.6.0) (17.5.0)\n",
      "Requirement already satisfied: zope.interface>=4.4.2 in ./venv/lib/python3.8/site-packages (from Twisted>=13.1.0->Scrapy==1.6.0) (5.2.0)\n",
      "Requirement already satisfied: cffi>=1.12 in ./venv/lib/python3.8/site-packages (from cryptography>=3.2->pyOpenSSL->Scrapy==1.6.0) (1.14.4)\n",
      "Requirement already satisfied: idna>=2.5 in ./venv/lib/python3.8/site-packages (from hyperlink>=17.1.1->Twisted>=13.1.0->Scrapy==1.6.0) (2.10)\n",
      "Requirement already satisfied: setuptools in ./venv/lib/python3.8/site-packages (from zope.interface>=4.4.2->Twisted>=13.1.0->Scrapy==1.6.0) (44.0.0)\n",
      "Requirement already satisfied: pycparser in ./venv/lib/python3.8/site-packages (from cffi>=1.12->cryptography>=3.2->pyOpenSSL->Scrapy==1.6.0) (2.20)\n",
      "Collecting Twisted==19.2.0\n",
      "  Using cached Twisted-19.2.0.tar.bz2 (3.1 MB)\n",
      "Requirement already satisfied: Automat>=0.3.0 in ./venv/lib/python3.8/site-packages (from Twisted==19.2.0) (20.2.0)\n",
      "Requirement already satisfied: PyHamcrest>=1.9.0 in ./venv/lib/python3.8/site-packages (from Twisted==19.2.0) (2.0.2)\n",
      "Requirement already satisfied: attrs>=17.4.0 in ./venv/lib/python3.8/site-packages (from Twisted==19.2.0) (20.3.0)\n",
      "Requirement already satisfied: constantly>=15.1 in ./venv/lib/python3.8/site-packages (from Twisted==19.2.0) (15.1.0)\n",
      "Requirement already satisfied: hyperlink>=17.1.1 in ./venv/lib/python3.8/site-packages (from Twisted==19.2.0) (20.0.1)\n",
      "Requirement already satisfied: incremental>=16.10.1 in ./venv/lib/python3.8/site-packages (from Twisted==19.2.0) (17.5.0)\n",
      "Requirement already satisfied: zope.interface>=4.4.2 in ./venv/lib/python3.8/site-packages (from Twisted==19.2.0) (5.2.0)\n",
      "Requirement already satisfied: six in ./venv/lib/python3.8/site-packages (from Automat>=0.3.0->Twisted==19.2.0) (1.15.0)\n",
      "Requirement already satisfied: idna>=2.5 in ./venv/lib/python3.8/site-packages (from hyperlink>=17.1.1->Twisted==19.2.0) (2.10)\n",
      "Requirement already satisfied: setuptools in ./venv/lib/python3.8/site-packages (from zope.interface>=4.4.2->Twisted==19.2.0) (44.0.0)\n",
      "Building wheels for collected packages: Twisted\n",
      "  Building wheel for Twisted (setup.py) ... \u001B[?25lerror\n",
      "\u001B[31m  ERROR: Command errored out with exit status 1:\n",
      "   command: /home/vadym/Projects/temp/texty_vr/venv/bin/python3 -u -c 'import sys, setuptools, tokenize; sys.argv[0] = '\"'\"'/tmp/pip-install-q98flhkd/Twisted/setup.py'\"'\"'; __file__='\"'\"'/tmp/pip-install-q98flhkd/Twisted/setup.py'\"'\"';f=getattr(tokenize, '\"'\"'open'\"'\"', open)(__file__);code=f.read().replace('\"'\"'\\r\\n'\"'\"', '\"'\"'\\n'\"'\"');f.close();exec(compile(code, __file__, '\"'\"'exec'\"'\"'))' bdist_wheel -d /tmp/pip-wheel-t38px8n8\n",
      "       cwd: /tmp/pip-install-q98flhkd/Twisted/\n",
      "  Complete output (6 lines):\n",
      "  usage: setup.py [global_opts] cmd1 [cmd1_opts] [cmd2 [cmd2_opts] ...]\n",
      "     or: setup.py --help [cmd1 cmd2 ...]\n",
      "     or: setup.py --help-commands\n",
      "     or: setup.py cmd --help\n",
      "  \n",
      "  error: invalid command 'bdist_wheel'\n",
      "  ----------------------------------------\u001B[0m\n",
      "\u001B[31m  ERROR: Failed building wheel for Twisted\u001B[0m\n",
      "\u001B[?25h  Running setup.py clean for Twisted\n",
      "Failed to build Twisted\n",
      "Installing collected packages: Twisted\n",
      "  Attempting uninstall: Twisted\n",
      "    Found existing installation: Twisted 20.3.0\n",
      "    Uninstalling Twisted-20.3.0:\n",
      "      Successfully uninstalled Twisted-20.3.0\n",
      "    Running setup.py install for Twisted ... \u001B[?25ldone\n",
      "\u001B[?25hSuccessfully installed Twisted-19.2.0\n"
     ]
    }
   ],
   "source": [
    "!pip install Scrapy==1.6.0\n",
    "!pip install Twisted==19.2.0"
   ]
  },
  {
   "cell_type": "code",
   "execution_count": 1,
   "metadata": {},
   "outputs": [],
   "source": [
    "import scrapy\n",
    "import datetime\n",
    "import json\n",
    "from asyncio import Queue\n",
    "from multiprocessing import Process\n",
    "from scrapy import crawler\n",
    "from twisted.internet import reactor\n",
    "\n",
    "from scrapy.crawler import CrawlerProcess"
   ]
  },
  {
   "cell_type": "markdown",
   "metadata": {},
   "source": [
    "Парсить результаты будем из **https://www.rada.gov.ua/news/hpz9/page/N/**, где **N** -- номер страницы -- на текущий момент от 1 до 308\n",
    "\n",
    "Крайне примитивный парсер дает дату и название события, его id во внутренней системе и ссылку на результаты голосования"
   ]
  },
  {
   "cell_type": "code",
   "execution_count": 2,
   "metadata": {},
   "outputs": [],
   "source": [
    "def get_all_links():\n",
    "    answer = []\n",
    "\n",
    "    for i in range(1, 309):\n",
    "        answer.append(f\"https://www.rada.gov.ua/news/hpz9/page/{i}/\")\n",
    "\n",
    "    return answer"
   ]
  },
  {
   "cell_type": "code",
   "execution_count": 7,
   "metadata": {},
   "outputs": [],
   "source": [
    "class VrSessionSpider(scrapy.Spider):\n",
    "    name = \"session\"\n",
    "    start_urls = get_all_links()\n",
    "\n",
    "    def parse(self, response):\n",
    "        timeline_block = response.css(\"div.timeline-block\")\n",
    "        for block in timeline_block:\n",
    "            date = \"\".join(block.css('div.timeline-block__date')[0].css('::text').extract()).strip().replace(\" \", \" \")\n",
    "            time = \"\".join(block.css('span.time')[0].css('::text').extract()).strip()\n",
    "\n",
    "            \n",
    "            for a in block.css('a'):\n",
    "                answer = {\n",
    "                    \"date\": date,\n",
    "                    \"time\": time,\n",
    "                    \"text\": \"\".join(a.css('::text').extract()).strip(),\n",
    "                    \"link\": a.attrib[\"href\"],\n",
    "                    \"id\": int(a.attrib[\"href\"].split(\"=\")[1])\n",
    "                }\n",
    "\n",
    "                yield answer"
   ]
  },
  {
   "cell_type": "code",
   "execution_count": 4,
   "metadata": {},
   "outputs": [],
   "source": [
    "# by default, CrawlerProcess is not restartable, so here it is a wrapper to make it run more times\n",
    "\n",
    "def run_spider(spider, json_file):\n",
    "    def f(q):\n",
    "        try:\n",
    "            runner = crawler.CrawlerRunner({\n",
    "                'USER_AGENT': 'Mozilla/4.0 (compatible; MSIE 7.0; Windows NT 5.1)',\n",
    "                'FEED_FORMAT': 'json',\n",
    "                'FEED_URI': json_file\n",
    "            })\n",
    "            deferred = runner.crawl(spider)\n",
    "            deferred.addBoth(lambda _: reactor.stop())\n",
    "            reactor.run()\n",
    "            q.put(None)\n",
    "        except Exception as e:\n",
    "            q.put(e)\n",
    "\n",
    "    q = Queue()\n",
    "    p = Process(target=f, args=(q,))\n",
    "    p.start()\n",
    "    result = q.get()\n",
    "    p.join()\n",
    "\n",
    "    if result is not None:\n",
    "        return result"
   ]
  },
  {
   "cell_type": "code",
   "execution_count": 8,
   "metadata": {},
   "outputs": [
    {
     "name": "stderr",
     "output_type": "stream",
     "text": [
      "<ipython-input-4-7d3601ce61a4>:14: RuntimeWarning: coroutine 'Queue.put' was never awaited\n",
      "  q.put(None)\n",
      "RuntimeWarning: Enable tracemalloc to get the object allocation traceback\n"
     ]
    },
    {
     "data": {
      "text/plain": [
       "<coroutine object Queue.get at 0x7fd0fac47840>"
      ]
     },
     "execution_count": 8,
     "metadata": {},
     "output_type": "execute_result"
    }
   ],
   "source": [
    "JSON_FILE = 'vr_session_parse_' + str(datetime.datetime.now()) + '.json'\n",
    "run_spider(VrSessionSpider, JSON_FILE)"
   ]
  },
  {
   "cell_type": "code",
   "execution_count": 9,
   "metadata": {},
   "outputs": [],
   "source": [
    "json_file = open(JSON_FILE, \"r+\")\n",
    "\n",
    "text = json_file.read()\n",
    "json_file.seek(0)\n",
    "json_info = json.loads(text)\n",
    "new_text = json.dumps(json_info, ensure_ascii=False, indent=1)\n",
    "\n",
    "json_file.write(new_text)\n",
    "json_file.truncate()\n",
    "json_file.close()"
   ]
  },
  {
   "cell_type": "markdown",
   "metadata": {},
   "source": [
    "В полученном файле список всех рассматриваемых текущим созывом вопросов - тема, дата и время и ссылка на страницу с результатами голосования -- именно по этому списку будут парситься результаты поименного голосования\n",
    "\n",
    "Что еще можно сделать с этим файлом\n",
    "* Прогнать названия заголосков вопросов через цепь Маркова и получить модельку генерации абсурда вроде вот этой (https://t.me/regionality/918) или (https://t.me/NeuralShit/1314)\n",
    "* Посмотреть на время принятия решения -- как часто и что именно принимают депутаты в непривычные для них часы работы (как минимум, однажды заседали до двух ночи) и что при этом делают и как именно голосуют (как правило, рассматривают спам из поправок)"
   ]
  }
 ],
 "metadata": {
  "kernelspec": {
   "display_name": "Python 3",
   "language": "python",
   "name": "python3"
  },
  "language_info": {
   "codemirror_mode": {
    "name": "ipython",
    "version": 3
   },
   "file_extension": ".py",
   "mimetype": "text/x-python",
   "name": "python",
   "nbconvert_exporter": "python",
   "pygments_lexer": "ipython3",
   "version": "3.8.5"
  }
 },
 "nbformat": 4,
 "nbformat_minor": 1
}